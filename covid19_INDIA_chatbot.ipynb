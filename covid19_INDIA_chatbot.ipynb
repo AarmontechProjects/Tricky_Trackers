{
 "cells": [
  {
   "cell_type": "code",
   "execution_count": 1,
   "metadata": {
    "id": "Agq3kbpor4ZR"
   },
   "outputs": [],
   "source": [
    "state_list = ['Andaman and Nicobar Islands', 'Andhra Pradesh', 'Arunachal Pradesh', 'Assam', 'Bihar', 'Chandigarh', 'Chhattisgarh', 'Delhi', 'Dadra and Nagar Haveli','Daman and Diu', 'Goa', 'Gujarat',\n",
    "              'Himachal Pradesh', 'Haryana', \n",
    "              'Jharkhand', 'Jammu and Kashmir', \n",
    "              'Karnataka', 'Kerala',\n",
    "              'Ladakh', 'Lakshadweep',\n",
    "              'Maharashtra', 'Meghalaya', \n",
    "              'Manipur', 'Madhya Pradesh', \n",
    "              'Mizoram', 'Nagaland', \n",
    "              'Odisha', 'Punjab', \n",
    "              'Puducherry', 'Rajasthan', \n",
    "              'Sikkim', 'Telangana', \n",
    "              'Tamil Nadu', \n",
    "              'Tripura', 'Uttar Pradesh', \n",
    "              'Uttarakhand', 'West Bengal']\n"
   ]
  },
  {
   "cell_type": "code",
   "execution_count": 2,
   "metadata": {
    "colab": {
     "base_uri": "https://localhost:8080/",
     "height": 145
    },
    "id": "xlFODbpGt2Ta",
    "outputId": "38701349-2646-4aaa-f961-a4fec2851395"
   },
   "outputs": [
    {
     "name": "stdout",
     "output_type": "stream",
     "text": [
      "Requirement already satisfied: pyTelegramBotAPI in e:\\python\\lib\\site-packages (3.7.1)\n",
      "Requirement already satisfied: requests in e:\\python\\lib\\site-packages (from pyTelegramBotAPI) (2.22.0)\n",
      "Requirement already satisfied: six in e:\\python\\lib\\site-packages (from pyTelegramBotAPI) (1.14.0)\n",
      "Requirement already satisfied: idna<2.9,>=2.5 in e:\\python\\lib\\site-packages (from requests->pyTelegramBotAPI) (2.8)\n",
      "Requirement already satisfied: certifi>=2017.4.17 in e:\\python\\lib\\site-packages (from requests->pyTelegramBotAPI) (2019.6.16)\n",
      "Requirement already satisfied: urllib3!=1.25.0,!=1.25.1,<1.26,>=1.21.1 in e:\\python\\lib\\site-packages (from requests->pyTelegramBotAPI) (1.25.3)\n",
      "Requirement already satisfied: chardet<3.1.0,>=3.0.2 in e:\\python\\lib\\site-packages (from requests->pyTelegramBotAPI) (3.0.4)\n"
     ]
    }
   ],
   "source": [
    "!pip install pyTelegramBotAPI"
   ]
  },
  {
   "cell_type": "code",
   "execution_count": 3,
   "metadata": {
    "id": "0zWKo5OCsPpT"
   },
   "outputs": [],
   "source": [
    "import telebot\n",
    "import requests as req \n",
    "import json"
   ]
  },
  {
   "cell_type": "code",
   "execution_count": 4,
   "metadata": {
    "id": "KnLEx3zit0Q0"
   },
   "outputs": [],
   "source": [
    "my_weather_bot = telebot.TeleBot(\"TOKEN\")"
   ]
  },
  {
   "cell_type": "code",
   "execution_count": 5,
   "metadata": {
    "id": "qhK5Yk4uuBwS"
   },
   "outputs": [],
   "source": [
    "@my_weather_bot.message_handler(commands=['start'])\n",
    "def start_message(message):\n",
    "    \n",
    "    keyboard = telebot.types.ReplyKeyboardMarkup(True)\n",
    "\n",
    "    keyboard.row('Andaman and Nicobar Islands', 'Andhra Pradesh')\n",
    "    keyboard.row('Arunachal Pradesh', 'Assam')\n",
    "    keyboard.row('Bihar', 'Chandigarh')\n",
    "    keyboard.row('Chhattisgarh', 'Delhi')\n",
    "    keyboard.row('Dadra and Nagar Haveli','Daman and Diu')\n",
    "    keyboard.row('Goa', 'Gujarat')\n",
    "    keyboard.row('Himachal Pradesh', 'Haryana')\n",
    "    keyboard.row('Jharkhand', 'Jammu and Kashmir')\n",
    "    keyboard.row('Karnataka', 'Kerala')\n",
    "    keyboard.row('Ladakh', 'Lakshadweep')\n",
    "    keyboard.row('Maharashtra', 'Meghalaya')\n",
    "    keyboard.row('Manipur', 'Madhya Pradesh')\n",
    "    keyboard.row('Mizoram', 'Nagaland')\n",
    "    keyboard.row('Odisha', 'Punjab')\n",
    "    keyboard.row('Puducherry', 'Rajasthan')\n",
    "    keyboard.row('Sikkim', 'Telangana')\n",
    "    keyboard.row('Tripura', 'Uttar Pradesh')\n",
    "    keyboard.row('Uttarakhand', 'West Bengal')\n",
    "    keyboard.row('Tamil Nadu')\n",
    "    \n",
    "    \n",
    "    response = req.get(\"https://api.rootnet.in/covid19-in/stats/latest\")\n",
    "    response_text = json.loads(response.text)\n",
    "    #print(response_text)\n",
    "    my_weather_bot.send_message(message.chat.id,\"INDIA\"+\"\\n\\nactive case : \"+str(response_text['data'][\"unofficial-summary\"][0]['active'])+\"\\n\\n confirmed cases :\" + str(response_text['data'][\"unofficial-summary\"][0]['total'])+\"\\n\\n recovered cases : \"+str(response_text['data'][\"unofficial-summary\"][0]['recovered'])+\"\\n\\n total deaths : \"+str(response_text['data'][\"unofficial-summary\"][0]['deaths'])+\"\\n\\n Select a state to get statewise summary.\",reply_markup = keyboard )\n",
    "\n",
    "@my_weather_bot.message_handler(commands=['help'])\n",
    "def start_message(message):\n",
    "  reply_msg_help  = \"COVID-19 India is a telegram bot to keep people updated about count of people affected by COVID-19 India.\\n\\nData-Source : covid19india.org and api.rootnet.in\\n\\nSend a /start message to proceed.\"\n",
    "  my_weather_bot.send_message(message.chat.id,reply_msg_help )\n",
    "\n",
    "\n",
    "@my_weather_bot.message_handler(func=lambda m: True)\n",
    "def echo_all(message):\n",
    "  \n",
    "\n",
    "  #print(message.text)\n",
    "  state =  message.text\n",
    "  if state in state_list:\n",
    "    reply_msg = \" \"\n",
    "\n",
    "    response = req.get(\"https://api.covidindiatracker.com/state_data.json\")\n",
    "    response_text = json.loads(response.text)\n",
    "  \n",
    "\n",
    "    for i in range(len(response_text)):\n",
    "      \n",
    "      if response_text[i]['state'].lower() == state.lower() :\n",
    "        state_data = state + \"\\n\\n active case : \"+str(response_text[i][\"active\"])+\"\\n confirmed cases :\" + str(response_text[i][\"confirmed\"])+\"\\n recovered cases : \"+str(response_text[i][\"recovered\"])+\"\\n total deaths : \"+str(response_text[i][\"deaths\"])\n",
    "        break  \n",
    "    \n",
    "    if state ==  \"Dadra and Nagar Haveli\" or state ==  \"Daman and Diu\":\n",
    "      state = \"Dadra and Nagar Haveli and Daman and Diu\"\n",
    "    response1 = req.get(\"https://api.covid19india.org/state_district_wise.json\")\n",
    "    response_text1 = json.loads(response1.text)\n",
    "    \n",
    "    if state in response_text1.keys():\n",
    "      \n",
    "      for district in response_text1[state][\"districtData\"].keys():\n",
    "        reply_msg = reply_msg +\"active cases in \" +str(district) +\": \"+ str(response_text1[state][\"districtData\"][district][\"active\"]) +\"\\n\"\n",
    "\n",
    "      my_weather_bot.send_message(message.chat.id, state_data +\"\\n\\nDistrictwise distribution - \\n\\n\" +reply_msg)\n",
    "  else:\n",
    "    error_msg = \" Wooops!I don't understand this.Just programmed to do one thing -\\n To get number of people affected by COVID-19.\\n\\nPick a state for details.\\n\\nSend /help for help.\"\n",
    "\n",
    "    my_weather_bot.send_message(message.chat.id, error_msg)\n",
    "\n",
    "    \n"
   ]
  },
  {
   "cell_type": "code",
   "execution_count": 6,
   "metadata": {
    "id": "oCagVzrFyBY3"
   },
   "outputs": [],
   "source": [
    "my_weather_bot.polling()"
   ]
  },
  {
   "cell_type": "code",
   "execution_count": null,
   "metadata": {
    "id": "732iItqcyLwk"
   },
   "outputs": [],
   "source": [
    "\n"
   ]
  },
  {
   "cell_type": "code",
   "execution_count": null,
   "metadata": {
    "colab": {
     "base_uri": "https://localhost:8080/",
     "height": 35
    },
    "id": "W5WWi7_T9sC7",
    "outputId": "66afca3c-05b5-4839-b7df-6edfefe5f462"
   },
   "outputs": [],
   "source": []
  },
  {
   "cell_type": "code",
   "execution_count": null,
   "metadata": {
    "id": "atr8isar90Z6"
   },
   "outputs": [],
   "source": []
  },
  {
   "cell_type": "code",
   "execution_count": null,
   "metadata": {
    "colab": {
     "base_uri": "https://localhost:8080/",
     "height": 35
    },
    "id": "RqKOAO1p-Y6P",
    "outputId": "a341758c-257b-4fd8-9f91-5a08b918f885"
   },
   "outputs": [],
   "source": []
  },
  {
   "cell_type": "code",
   "execution_count": null,
   "metadata": {
    "id": "VBlSB3N6-jh7"
   },
   "outputs": [],
   "source": []
  }
 ],
 "metadata": {
  "colab": {
   "collapsed_sections": [],
   "name": "Final_covid_chatbot.ipynb",
   "provenance": []
  },
  "kernelspec": {
   "display_name": "Python 3",
   "language": "python",
   "name": "python3"
  },
  "language_info": {
   "codemirror_mode": {
    "name": "ipython",
    "version": 3
   },
   "file_extension": ".py",
   "mimetype": "text/x-python",
   "name": "python",
   "nbconvert_exporter": "python",
   "pygments_lexer": "ipython3",
   "version": "3.7.3"
  }
 },
 "nbformat": 4,
 "nbformat_minor": 1
}
